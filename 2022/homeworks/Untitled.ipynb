{
 "cells": [
  {
   "cell_type": "code",
   "execution_count": 1,
   "id": "8c627841",
   "metadata": {},
   "outputs": [],
   "source": [
    "#lin reg and cross val"
   ]
  },
  {
   "cell_type": "code",
   "execution_count": 70,
   "id": "696e05b2",
   "metadata": {},
   "outputs": [],
   "source": [
    "import numpy as np\n",
    "import pandas as pd\n",
    "import matplotlib.pyplot as plt\n",
    "from sklearn.datasets import load_boston"
   ]
  },
  {
   "cell_type": "code",
   "execution_count": 71,
   "id": "3bac4220",
   "metadata": {},
   "outputs": [
    {
     "name": "stderr",
     "output_type": "stream",
     "text": [
      "C:\\Users\\Panic\\anaconda3\\lib\\site-packages\\sklearn\\utils\\deprecation.py:87: FutureWarning: Function load_boston is deprecated; `load_boston` is deprecated in 1.0 and will be removed in 1.2.\n",
      "\n",
      "    The Boston housing prices dataset has an ethical problem. You can refer to\n",
      "    the documentation of this function for further details.\n",
      "\n",
      "    The scikit-learn maintainers therefore strongly discourage the use of this\n",
      "    dataset unless the purpose of the code is to study and educate about\n",
      "    ethical issues in data science and machine learning.\n",
      "\n",
      "    In this special case, you can fetch the dataset from the original\n",
      "    source::\n",
      "\n",
      "        import pandas as pd\n",
      "        import numpy as np\n",
      "\n",
      "\n",
      "        data_url = \"http://lib.stat.cmu.edu/datasets/boston\"\n",
      "        raw_df = pd.read_csv(data_url, sep=\"\\s+\", skiprows=22, header=None)\n",
      "        data = np.hstack([raw_df.values[::2, :], raw_df.values[1::2, :2]])\n",
      "        target = raw_df.values[1::2, 2]\n",
      "\n",
      "    Alternative datasets include the California housing dataset (i.e.\n",
      "    :func:`~sklearn.datasets.fetch_california_housing`) and the Ames housing\n",
      "    dataset. You can load the datasets as follows::\n",
      "\n",
      "        from sklearn.datasets import fetch_california_housing\n",
      "        housing = fetch_california_housing()\n",
      "\n",
      "    for the California housing dataset and::\n",
      "\n",
      "        from sklearn.datasets import fetch_openml\n",
      "        housing = fetch_openml(name=\"house_prices\", as_frame=True)\n",
      "\n",
      "    for the Ames housing dataset.\n",
      "    \n",
      "  warnings.warn(msg, category=FutureWarning)\n"
     ]
    }
   ],
   "source": [
    "X, y = load_boston()['data'], load_boston()['target']"
   ]
  },
  {
   "cell_type": "code",
   "execution_count": 72,
   "id": "820ba1ff",
   "metadata": {},
   "outputs": [],
   "source": [
    "X = pd.DataFrame(X, columns = load_boston()['feature_names'])"
   ]
  },
  {
   "cell_type": "code",
   "execution_count": 73,
   "id": "0b769a55",
   "metadata": {},
   "outputs": [
    {
     "data": {
      "text/html": [
       "<div>\n",
       "<style scoped>\n",
       "    .dataframe tbody tr th:only-of-type {\n",
       "        vertical-align: middle;\n",
       "    }\n",
       "\n",
       "    .dataframe tbody tr th {\n",
       "        vertical-align: top;\n",
       "    }\n",
       "\n",
       "    .dataframe thead th {\n",
       "        text-align: right;\n",
       "    }\n",
       "</style>\n",
       "<table border=\"1\" class=\"dataframe\">\n",
       "  <thead>\n",
       "    <tr style=\"text-align: right;\">\n",
       "      <th></th>\n",
       "      <th>CRIM</th>\n",
       "      <th>ZN</th>\n",
       "      <th>INDUS</th>\n",
       "      <th>CHAS</th>\n",
       "      <th>NOX</th>\n",
       "      <th>RM</th>\n",
       "      <th>AGE</th>\n",
       "      <th>DIS</th>\n",
       "      <th>RAD</th>\n",
       "      <th>TAX</th>\n",
       "      <th>PTRATIO</th>\n",
       "      <th>B</th>\n",
       "      <th>LSTAT</th>\n",
       "    </tr>\n",
       "  </thead>\n",
       "  <tbody>\n",
       "    <tr>\n",
       "      <th>count</th>\n",
       "      <td>506.000000</td>\n",
       "      <td>506.000000</td>\n",
       "      <td>506.000000</td>\n",
       "      <td>506.000000</td>\n",
       "      <td>506.000000</td>\n",
       "      <td>506.000000</td>\n",
       "      <td>506.000000</td>\n",
       "      <td>506.000000</td>\n",
       "      <td>506.000000</td>\n",
       "      <td>506.000000</td>\n",
       "      <td>506.000000</td>\n",
       "      <td>506.000000</td>\n",
       "      <td>506.000000</td>\n",
       "    </tr>\n",
       "    <tr>\n",
       "      <th>mean</th>\n",
       "      <td>3.613524</td>\n",
       "      <td>11.363636</td>\n",
       "      <td>11.136779</td>\n",
       "      <td>0.069170</td>\n",
       "      <td>0.554695</td>\n",
       "      <td>6.284634</td>\n",
       "      <td>68.574901</td>\n",
       "      <td>3.795043</td>\n",
       "      <td>9.549407</td>\n",
       "      <td>408.237154</td>\n",
       "      <td>18.455534</td>\n",
       "      <td>356.674032</td>\n",
       "      <td>12.653063</td>\n",
       "    </tr>\n",
       "    <tr>\n",
       "      <th>std</th>\n",
       "      <td>8.601545</td>\n",
       "      <td>23.322453</td>\n",
       "      <td>6.860353</td>\n",
       "      <td>0.253994</td>\n",
       "      <td>0.115878</td>\n",
       "      <td>0.702617</td>\n",
       "      <td>28.148861</td>\n",
       "      <td>2.105710</td>\n",
       "      <td>8.707259</td>\n",
       "      <td>168.537116</td>\n",
       "      <td>2.164946</td>\n",
       "      <td>91.294864</td>\n",
       "      <td>7.141062</td>\n",
       "    </tr>\n",
       "    <tr>\n",
       "      <th>min</th>\n",
       "      <td>0.006320</td>\n",
       "      <td>0.000000</td>\n",
       "      <td>0.460000</td>\n",
       "      <td>0.000000</td>\n",
       "      <td>0.385000</td>\n",
       "      <td>3.561000</td>\n",
       "      <td>2.900000</td>\n",
       "      <td>1.129600</td>\n",
       "      <td>1.000000</td>\n",
       "      <td>187.000000</td>\n",
       "      <td>12.600000</td>\n",
       "      <td>0.320000</td>\n",
       "      <td>1.730000</td>\n",
       "    </tr>\n",
       "    <tr>\n",
       "      <th>25%</th>\n",
       "      <td>0.082045</td>\n",
       "      <td>0.000000</td>\n",
       "      <td>5.190000</td>\n",
       "      <td>0.000000</td>\n",
       "      <td>0.449000</td>\n",
       "      <td>5.885500</td>\n",
       "      <td>45.025000</td>\n",
       "      <td>2.100175</td>\n",
       "      <td>4.000000</td>\n",
       "      <td>279.000000</td>\n",
       "      <td>17.400000</td>\n",
       "      <td>375.377500</td>\n",
       "      <td>6.950000</td>\n",
       "    </tr>\n",
       "    <tr>\n",
       "      <th>50%</th>\n",
       "      <td>0.256510</td>\n",
       "      <td>0.000000</td>\n",
       "      <td>9.690000</td>\n",
       "      <td>0.000000</td>\n",
       "      <td>0.538000</td>\n",
       "      <td>6.208500</td>\n",
       "      <td>77.500000</td>\n",
       "      <td>3.207450</td>\n",
       "      <td>5.000000</td>\n",
       "      <td>330.000000</td>\n",
       "      <td>19.050000</td>\n",
       "      <td>391.440000</td>\n",
       "      <td>11.360000</td>\n",
       "    </tr>\n",
       "    <tr>\n",
       "      <th>75%</th>\n",
       "      <td>3.677083</td>\n",
       "      <td>12.500000</td>\n",
       "      <td>18.100000</td>\n",
       "      <td>0.000000</td>\n",
       "      <td>0.624000</td>\n",
       "      <td>6.623500</td>\n",
       "      <td>94.075000</td>\n",
       "      <td>5.188425</td>\n",
       "      <td>24.000000</td>\n",
       "      <td>666.000000</td>\n",
       "      <td>20.200000</td>\n",
       "      <td>396.225000</td>\n",
       "      <td>16.955000</td>\n",
       "    </tr>\n",
       "    <tr>\n",
       "      <th>max</th>\n",
       "      <td>88.976200</td>\n",
       "      <td>100.000000</td>\n",
       "      <td>27.740000</td>\n",
       "      <td>1.000000</td>\n",
       "      <td>0.871000</td>\n",
       "      <td>8.780000</td>\n",
       "      <td>100.000000</td>\n",
       "      <td>12.126500</td>\n",
       "      <td>24.000000</td>\n",
       "      <td>711.000000</td>\n",
       "      <td>22.000000</td>\n",
       "      <td>396.900000</td>\n",
       "      <td>37.970000</td>\n",
       "    </tr>\n",
       "  </tbody>\n",
       "</table>\n",
       "</div>"
      ],
      "text/plain": [
       "             CRIM          ZN       INDUS        CHAS         NOX          RM  \\\n",
       "count  506.000000  506.000000  506.000000  506.000000  506.000000  506.000000   \n",
       "mean     3.613524   11.363636   11.136779    0.069170    0.554695    6.284634   \n",
       "std      8.601545   23.322453    6.860353    0.253994    0.115878    0.702617   \n",
       "min      0.006320    0.000000    0.460000    0.000000    0.385000    3.561000   \n",
       "25%      0.082045    0.000000    5.190000    0.000000    0.449000    5.885500   \n",
       "50%      0.256510    0.000000    9.690000    0.000000    0.538000    6.208500   \n",
       "75%      3.677083   12.500000   18.100000    0.000000    0.624000    6.623500   \n",
       "max     88.976200  100.000000   27.740000    1.000000    0.871000    8.780000   \n",
       "\n",
       "              AGE         DIS         RAD         TAX     PTRATIO           B  \\\n",
       "count  506.000000  506.000000  506.000000  506.000000  506.000000  506.000000   \n",
       "mean    68.574901    3.795043    9.549407  408.237154   18.455534  356.674032   \n",
       "std     28.148861    2.105710    8.707259  168.537116    2.164946   91.294864   \n",
       "min      2.900000    1.129600    1.000000  187.000000   12.600000    0.320000   \n",
       "25%     45.025000    2.100175    4.000000  279.000000   17.400000  375.377500   \n",
       "50%     77.500000    3.207450    5.000000  330.000000   19.050000  391.440000   \n",
       "75%     94.075000    5.188425   24.000000  666.000000   20.200000  396.225000   \n",
       "max    100.000000   12.126500   24.000000  711.000000   22.000000  396.900000   \n",
       "\n",
       "            LSTAT  \n",
       "count  506.000000  \n",
       "mean    12.653063  \n",
       "std      7.141062  \n",
       "min      1.730000  \n",
       "25%      6.950000  \n",
       "50%     11.360000  \n",
       "75%     16.955000  \n",
       "max     37.970000  "
      ]
     },
     "execution_count": 73,
     "metadata": {},
     "output_type": "execute_result"
    }
   ],
   "source": [
    "X.describe()"
   ]
  },
  {
   "cell_type": "code",
   "execution_count": 74,
   "id": "4f1fb047",
   "metadata": {},
   "outputs": [],
   "source": [
    "from sklearn.model_selection import train_test_split"
   ]
  },
  {
   "cell_type": "code",
   "execution_count": 75,
   "id": "c3d78079",
   "metadata": {},
   "outputs": [],
   "source": [
    "np.random.seed(123)\n",
    "X_train, X_test, y_train, y_test = train_test_split(X, y, test_size = 0.3)"
   ]
  },
  {
   "cell_type": "code",
   "execution_count": 76,
   "id": "7a206751",
   "metadata": {},
   "outputs": [
    {
     "data": {
      "text/html": [
       "<div>\n",
       "<style scoped>\n",
       "    .dataframe tbody tr th:only-of-type {\n",
       "        vertical-align: middle;\n",
       "    }\n",
       "\n",
       "    .dataframe tbody tr th {\n",
       "        vertical-align: top;\n",
       "    }\n",
       "\n",
       "    .dataframe thead th {\n",
       "        text-align: right;\n",
       "    }\n",
       "</style>\n",
       "<table border=\"1\" class=\"dataframe\">\n",
       "  <thead>\n",
       "    <tr style=\"text-align: right;\">\n",
       "      <th></th>\n",
       "      <th>CRIM</th>\n",
       "      <th>ZN</th>\n",
       "      <th>INDUS</th>\n",
       "      <th>CHAS</th>\n",
       "      <th>NOX</th>\n",
       "      <th>RM</th>\n",
       "      <th>AGE</th>\n",
       "      <th>DIS</th>\n",
       "      <th>RAD</th>\n",
       "      <th>TAX</th>\n",
       "      <th>PTRATIO</th>\n",
       "      <th>B</th>\n",
       "      <th>LSTAT</th>\n",
       "    </tr>\n",
       "  </thead>\n",
       "  <tbody>\n",
       "    <tr>\n",
       "      <th>273</th>\n",
       "      <td>0.22188</td>\n",
       "      <td>20.0</td>\n",
       "      <td>6.96</td>\n",
       "      <td>1.0</td>\n",
       "      <td>0.464</td>\n",
       "      <td>7.691</td>\n",
       "      <td>51.8</td>\n",
       "      <td>4.3665</td>\n",
       "      <td>3.0</td>\n",
       "      <td>223.0</td>\n",
       "      <td>18.6</td>\n",
       "      <td>390.77</td>\n",
       "      <td>6.58</td>\n",
       "    </tr>\n",
       "    <tr>\n",
       "      <th>52</th>\n",
       "      <td>0.05360</td>\n",
       "      <td>21.0</td>\n",
       "      <td>5.64</td>\n",
       "      <td>0.0</td>\n",
       "      <td>0.439</td>\n",
       "      <td>6.511</td>\n",
       "      <td>21.1</td>\n",
       "      <td>6.8147</td>\n",
       "      <td>4.0</td>\n",
       "      <td>243.0</td>\n",
       "      <td>16.8</td>\n",
       "      <td>396.90</td>\n",
       "      <td>5.28</td>\n",
       "    </tr>\n",
       "    <tr>\n",
       "      <th>181</th>\n",
       "      <td>0.06888</td>\n",
       "      <td>0.0</td>\n",
       "      <td>2.46</td>\n",
       "      <td>0.0</td>\n",
       "      <td>0.488</td>\n",
       "      <td>6.144</td>\n",
       "      <td>62.2</td>\n",
       "      <td>2.5979</td>\n",
       "      <td>3.0</td>\n",
       "      <td>193.0</td>\n",
       "      <td>17.8</td>\n",
       "      <td>396.90</td>\n",
       "      <td>9.45</td>\n",
       "    </tr>\n",
       "    <tr>\n",
       "      <th>452</th>\n",
       "      <td>5.09017</td>\n",
       "      <td>0.0</td>\n",
       "      <td>18.10</td>\n",
       "      <td>0.0</td>\n",
       "      <td>0.713</td>\n",
       "      <td>6.297</td>\n",
       "      <td>91.8</td>\n",
       "      <td>2.3682</td>\n",
       "      <td>24.0</td>\n",
       "      <td>666.0</td>\n",
       "      <td>20.2</td>\n",
       "      <td>385.09</td>\n",
       "      <td>17.27</td>\n",
       "    </tr>\n",
       "    <tr>\n",
       "      <th>381</th>\n",
       "      <td>15.87440</td>\n",
       "      <td>0.0</td>\n",
       "      <td>18.10</td>\n",
       "      <td>0.0</td>\n",
       "      <td>0.671</td>\n",
       "      <td>6.545</td>\n",
       "      <td>99.1</td>\n",
       "      <td>1.5192</td>\n",
       "      <td>24.0</td>\n",
       "      <td>666.0</td>\n",
       "      <td>20.2</td>\n",
       "      <td>396.90</td>\n",
       "      <td>21.08</td>\n",
       "    </tr>\n",
       "    <tr>\n",
       "      <th>...</th>\n",
       "      <td>...</td>\n",
       "      <td>...</td>\n",
       "      <td>...</td>\n",
       "      <td>...</td>\n",
       "      <td>...</td>\n",
       "      <td>...</td>\n",
       "      <td>...</td>\n",
       "      <td>...</td>\n",
       "      <td>...</td>\n",
       "      <td>...</td>\n",
       "      <td>...</td>\n",
       "      <td>...</td>\n",
       "      <td>...</td>\n",
       "    </tr>\n",
       "    <tr>\n",
       "      <th>98</th>\n",
       "      <td>0.08187</td>\n",
       "      <td>0.0</td>\n",
       "      <td>2.89</td>\n",
       "      <td>0.0</td>\n",
       "      <td>0.445</td>\n",
       "      <td>7.820</td>\n",
       "      <td>36.9</td>\n",
       "      <td>3.4952</td>\n",
       "      <td>2.0</td>\n",
       "      <td>276.0</td>\n",
       "      <td>18.0</td>\n",
       "      <td>393.53</td>\n",
       "      <td>3.57</td>\n",
       "    </tr>\n",
       "    <tr>\n",
       "      <th>476</th>\n",
       "      <td>4.87141</td>\n",
       "      <td>0.0</td>\n",
       "      <td>18.10</td>\n",
       "      <td>0.0</td>\n",
       "      <td>0.614</td>\n",
       "      <td>6.484</td>\n",
       "      <td>93.6</td>\n",
       "      <td>2.3053</td>\n",
       "      <td>24.0</td>\n",
       "      <td>666.0</td>\n",
       "      <td>20.2</td>\n",
       "      <td>396.21</td>\n",
       "      <td>18.68</td>\n",
       "    </tr>\n",
       "    <tr>\n",
       "      <th>322</th>\n",
       "      <td>0.35114</td>\n",
       "      <td>0.0</td>\n",
       "      <td>7.38</td>\n",
       "      <td>0.0</td>\n",
       "      <td>0.493</td>\n",
       "      <td>6.041</td>\n",
       "      <td>49.9</td>\n",
       "      <td>4.7211</td>\n",
       "      <td>5.0</td>\n",
       "      <td>287.0</td>\n",
       "      <td>19.6</td>\n",
       "      <td>396.90</td>\n",
       "      <td>7.70</td>\n",
       "    </tr>\n",
       "    <tr>\n",
       "      <th>382</th>\n",
       "      <td>9.18702</td>\n",
       "      <td>0.0</td>\n",
       "      <td>18.10</td>\n",
       "      <td>0.0</td>\n",
       "      <td>0.700</td>\n",
       "      <td>5.536</td>\n",
       "      <td>100.0</td>\n",
       "      <td>1.5804</td>\n",
       "      <td>24.0</td>\n",
       "      <td>666.0</td>\n",
       "      <td>20.2</td>\n",
       "      <td>396.90</td>\n",
       "      <td>23.60</td>\n",
       "    </tr>\n",
       "    <tr>\n",
       "      <th>365</th>\n",
       "      <td>4.55587</td>\n",
       "      <td>0.0</td>\n",
       "      <td>18.10</td>\n",
       "      <td>0.0</td>\n",
       "      <td>0.718</td>\n",
       "      <td>3.561</td>\n",
       "      <td>87.9</td>\n",
       "      <td>1.6132</td>\n",
       "      <td>24.0</td>\n",
       "      <td>666.0</td>\n",
       "      <td>20.2</td>\n",
       "      <td>354.70</td>\n",
       "      <td>7.12</td>\n",
       "    </tr>\n",
       "  </tbody>\n",
       "</table>\n",
       "<p>354 rows × 13 columns</p>\n",
       "</div>"
      ],
      "text/plain": [
       "         CRIM    ZN  INDUS  CHAS    NOX     RM    AGE     DIS   RAD    TAX  \\\n",
       "273   0.22188  20.0   6.96   1.0  0.464  7.691   51.8  4.3665   3.0  223.0   \n",
       "52    0.05360  21.0   5.64   0.0  0.439  6.511   21.1  6.8147   4.0  243.0   \n",
       "181   0.06888   0.0   2.46   0.0  0.488  6.144   62.2  2.5979   3.0  193.0   \n",
       "452   5.09017   0.0  18.10   0.0  0.713  6.297   91.8  2.3682  24.0  666.0   \n",
       "381  15.87440   0.0  18.10   0.0  0.671  6.545   99.1  1.5192  24.0  666.0   \n",
       "..        ...   ...    ...   ...    ...    ...    ...     ...   ...    ...   \n",
       "98    0.08187   0.0   2.89   0.0  0.445  7.820   36.9  3.4952   2.0  276.0   \n",
       "476   4.87141   0.0  18.10   0.0  0.614  6.484   93.6  2.3053  24.0  666.0   \n",
       "322   0.35114   0.0   7.38   0.0  0.493  6.041   49.9  4.7211   5.0  287.0   \n",
       "382   9.18702   0.0  18.10   0.0  0.700  5.536  100.0  1.5804  24.0  666.0   \n",
       "365   4.55587   0.0  18.10   0.0  0.718  3.561   87.9  1.6132  24.0  666.0   \n",
       "\n",
       "     PTRATIO       B  LSTAT  \n",
       "273     18.6  390.77   6.58  \n",
       "52      16.8  396.90   5.28  \n",
       "181     17.8  396.90   9.45  \n",
       "452     20.2  385.09  17.27  \n",
       "381     20.2  396.90  21.08  \n",
       "..       ...     ...    ...  \n",
       "98      18.0  393.53   3.57  \n",
       "476     20.2  396.21  18.68  \n",
       "322     19.6  396.90   7.70  \n",
       "382     20.2  396.90  23.60  \n",
       "365     20.2  354.70   7.12  \n",
       "\n",
       "[354 rows x 13 columns]"
      ]
     },
     "execution_count": 76,
     "metadata": {},
     "output_type": "execute_result"
    }
   ],
   "source": [
    "X_train"
   ]
  },
  {
   "cell_type": "code",
   "execution_count": 77,
   "id": "9fffde30",
   "metadata": {},
   "outputs": [],
   "source": [
    "from sklearn.preprocessing import StandardScaler"
   ]
  },
  {
   "cell_type": "code",
   "execution_count": 78,
   "id": "b325faa0",
   "metadata": {},
   "outputs": [],
   "source": [
    "ss = StandardScaler()"
   ]
  },
  {
   "cell_type": "code",
   "execution_count": 79,
   "id": "62a70cfe",
   "metadata": {},
   "outputs": [
    {
     "data": {
      "text/plain": [
       "StandardScaler()"
      ]
     },
     "execution_count": 79,
     "metadata": {},
     "output_type": "execute_result"
    }
   ],
   "source": [
    "ss.fit(X_train)"
   ]
  },
  {
   "cell_type": "code",
   "execution_count": 80,
   "id": "1be15c6f",
   "metadata": {},
   "outputs": [],
   "source": [
    "X_train_transfromed = ss.transform(X_train)\n",
    "X_test_transfromed = ss.transform(X_test)"
   ]
  },
  {
   "cell_type": "code",
   "execution_count": 81,
   "id": "1c3c1f03",
   "metadata": {},
   "outputs": [
    {
     "data": {
      "text/html": [
       "<div>\n",
       "<style scoped>\n",
       "    .dataframe tbody tr th:only-of-type {\n",
       "        vertical-align: middle;\n",
       "    }\n",
       "\n",
       "    .dataframe tbody tr th {\n",
       "        vertical-align: top;\n",
       "    }\n",
       "\n",
       "    .dataframe thead th {\n",
       "        text-align: right;\n",
       "    }\n",
       "</style>\n",
       "<table border=\"1\" class=\"dataframe\">\n",
       "  <thead>\n",
       "    <tr style=\"text-align: right;\">\n",
       "      <th></th>\n",
       "      <th>0</th>\n",
       "      <th>1</th>\n",
       "      <th>2</th>\n",
       "      <th>3</th>\n",
       "      <th>4</th>\n",
       "      <th>5</th>\n",
       "      <th>6</th>\n",
       "      <th>7</th>\n",
       "      <th>8</th>\n",
       "      <th>9</th>\n",
       "      <th>10</th>\n",
       "      <th>11</th>\n",
       "      <th>12</th>\n",
       "    </tr>\n",
       "  </thead>\n",
       "  <tbody>\n",
       "    <tr>\n",
       "      <th>0</th>\n",
       "      <td>-0.358429</td>\n",
       "      <td>0.373206</td>\n",
       "      <td>-0.575289</td>\n",
       "      <td>3.982103</td>\n",
       "      <td>-0.756717</td>\n",
       "      <td>1.945607</td>\n",
       "      <td>-0.560172</td>\n",
       "      <td>0.241346</td>\n",
       "      <td>-0.736411</td>\n",
       "      <td>-1.074980</td>\n",
       "      <td>0.074392</td>\n",
       "      <td>0.345382</td>\n",
       "      <td>-0.833654</td>\n",
       "    </tr>\n",
       "    <tr>\n",
       "      <th>1</th>\n",
       "      <td>-0.376741</td>\n",
       "      <td>0.416765</td>\n",
       "      <td>-0.768547</td>\n",
       "      <td>-0.251124</td>\n",
       "      <td>-0.976585</td>\n",
       "      <td>0.278163</td>\n",
       "      <td>-1.644439</td>\n",
       "      <td>1.393485</td>\n",
       "      <td>-0.617916</td>\n",
       "      <td>-0.954568</td>\n",
       "      <td>-0.770569</td>\n",
       "      <td>0.415212</td>\n",
       "      <td>-1.013901</td>\n",
       "    </tr>\n",
       "    <tr>\n",
       "      <th>2</th>\n",
       "      <td>-0.375078</td>\n",
       "      <td>-0.497977</td>\n",
       "      <td>-1.234121</td>\n",
       "      <td>-0.251124</td>\n",
       "      <td>-0.545643</td>\n",
       "      <td>-0.240441</td>\n",
       "      <td>-0.192863</td>\n",
       "      <td>-0.590969</td>\n",
       "      <td>-0.736411</td>\n",
       "      <td>-1.255597</td>\n",
       "      <td>-0.301147</td>\n",
       "      <td>0.415212</td>\n",
       "      <td>-0.435725</td>\n",
       "    </tr>\n",
       "    <tr>\n",
       "      <th>3</th>\n",
       "      <td>0.171309</td>\n",
       "      <td>-0.497977</td>\n",
       "      <td>1.055687</td>\n",
       "      <td>-0.251124</td>\n",
       "      <td>1.433171</td>\n",
       "      <td>-0.024238</td>\n",
       "      <td>0.852554</td>\n",
       "      <td>-0.699068</td>\n",
       "      <td>1.751988</td>\n",
       "      <td>1.592137</td>\n",
       "      <td>0.825468</td>\n",
       "      <td>0.280679</td>\n",
       "      <td>0.648527</td>\n",
       "    </tr>\n",
       "    <tr>\n",
       "      <th>4</th>\n",
       "      <td>1.344784</td>\n",
       "      <td>-0.497977</td>\n",
       "      <td>1.055687</td>\n",
       "      <td>-0.251124</td>\n",
       "      <td>1.063792</td>\n",
       "      <td>0.326208</td>\n",
       "      <td>1.110377</td>\n",
       "      <td>-1.098613</td>\n",
       "      <td>1.751988</td>\n",
       "      <td>1.592137</td>\n",
       "      <td>0.825468</td>\n",
       "      <td>0.415212</td>\n",
       "      <td>1.176788</td>\n",
       "    </tr>\n",
       "    <tr>\n",
       "      <th>...</th>\n",
       "      <td>...</td>\n",
       "      <td>...</td>\n",
       "      <td>...</td>\n",
       "      <td>...</td>\n",
       "      <td>...</td>\n",
       "      <td>...</td>\n",
       "      <td>...</td>\n",
       "      <td>...</td>\n",
       "      <td>...</td>\n",
       "      <td>...</td>\n",
       "      <td>...</td>\n",
       "      <td>...</td>\n",
       "      <td>...</td>\n",
       "    </tr>\n",
       "    <tr>\n",
       "      <th>349</th>\n",
       "      <td>-0.373664</td>\n",
       "      <td>-0.497977</td>\n",
       "      <td>-1.171166</td>\n",
       "      <td>-0.251124</td>\n",
       "      <td>-0.923817</td>\n",
       "      <td>2.127895</td>\n",
       "      <td>-1.086412</td>\n",
       "      <td>-0.168694</td>\n",
       "      <td>-0.854906</td>\n",
       "      <td>-0.755889</td>\n",
       "      <td>-0.207262</td>\n",
       "      <td>0.376823</td>\n",
       "      <td>-1.250994</td>\n",
       "    </tr>\n",
       "    <tr>\n",
       "      <th>350</th>\n",
       "      <td>0.147505</td>\n",
       "      <td>-0.497977</td>\n",
       "      <td>1.055687</td>\n",
       "      <td>-0.251124</td>\n",
       "      <td>0.562492</td>\n",
       "      <td>0.240009</td>\n",
       "      <td>0.916127</td>\n",
       "      <td>-0.728669</td>\n",
       "      <td>1.751988</td>\n",
       "      <td>1.592137</td>\n",
       "      <td>0.825468</td>\n",
       "      <td>0.407352</td>\n",
       "      <td>0.844025</td>\n",
       "    </tr>\n",
       "    <tr>\n",
       "      <th>351</th>\n",
       "      <td>-0.344364</td>\n",
       "      <td>-0.497977</td>\n",
       "      <td>-0.513798</td>\n",
       "      <td>-0.251124</td>\n",
       "      <td>-0.501670</td>\n",
       "      <td>-0.385989</td>\n",
       "      <td>-0.627276</td>\n",
       "      <td>0.408223</td>\n",
       "      <td>-0.499420</td>\n",
       "      <td>-0.689662</td>\n",
       "      <td>0.543814</td>\n",
       "      <td>0.415212</td>\n",
       "      <td>-0.678365</td>\n",
       "    </tr>\n",
       "    <tr>\n",
       "      <th>352</th>\n",
       "      <td>0.617104</td>\n",
       "      <td>-0.497977</td>\n",
       "      <td>1.055687</td>\n",
       "      <td>-0.251124</td>\n",
       "      <td>1.318839</td>\n",
       "      <td>-1.099598</td>\n",
       "      <td>1.142163</td>\n",
       "      <td>-1.069811</td>\n",
       "      <td>1.751988</td>\n",
       "      <td>1.592137</td>\n",
       "      <td>0.825468</td>\n",
       "      <td>0.415212</td>\n",
       "      <td>1.526189</td>\n",
       "    </tr>\n",
       "    <tr>\n",
       "      <th>353</th>\n",
       "      <td>0.113170</td>\n",
       "      <td>-0.497977</td>\n",
       "      <td>1.055687</td>\n",
       "      <td>-0.251124</td>\n",
       "      <td>1.477144</td>\n",
       "      <td>-3.890447</td>\n",
       "      <td>0.714814</td>\n",
       "      <td>-1.054376</td>\n",
       "      <td>1.751988</td>\n",
       "      <td>1.592137</td>\n",
       "      <td>0.825468</td>\n",
       "      <td>-0.065507</td>\n",
       "      <td>-0.758782</td>\n",
       "    </tr>\n",
       "  </tbody>\n",
       "</table>\n",
       "<p>354 rows × 13 columns</p>\n",
       "</div>"
      ],
      "text/plain": [
       "           0         1         2         3         4         5         6   \\\n",
       "0   -0.358429  0.373206 -0.575289  3.982103 -0.756717  1.945607 -0.560172   \n",
       "1   -0.376741  0.416765 -0.768547 -0.251124 -0.976585  0.278163 -1.644439   \n",
       "2   -0.375078 -0.497977 -1.234121 -0.251124 -0.545643 -0.240441 -0.192863   \n",
       "3    0.171309 -0.497977  1.055687 -0.251124  1.433171 -0.024238  0.852554   \n",
       "4    1.344784 -0.497977  1.055687 -0.251124  1.063792  0.326208  1.110377   \n",
       "..        ...       ...       ...       ...       ...       ...       ...   \n",
       "349 -0.373664 -0.497977 -1.171166 -0.251124 -0.923817  2.127895 -1.086412   \n",
       "350  0.147505 -0.497977  1.055687 -0.251124  0.562492  0.240009  0.916127   \n",
       "351 -0.344364 -0.497977 -0.513798 -0.251124 -0.501670 -0.385989 -0.627276   \n",
       "352  0.617104 -0.497977  1.055687 -0.251124  1.318839 -1.099598  1.142163   \n",
       "353  0.113170 -0.497977  1.055687 -0.251124  1.477144 -3.890447  0.714814   \n",
       "\n",
       "           7         8         9         10        11        12  \n",
       "0    0.241346 -0.736411 -1.074980  0.074392  0.345382 -0.833654  \n",
       "1    1.393485 -0.617916 -0.954568 -0.770569  0.415212 -1.013901  \n",
       "2   -0.590969 -0.736411 -1.255597 -0.301147  0.415212 -0.435725  \n",
       "3   -0.699068  1.751988  1.592137  0.825468  0.280679  0.648527  \n",
       "4   -1.098613  1.751988  1.592137  0.825468  0.415212  1.176788  \n",
       "..        ...       ...       ...       ...       ...       ...  \n",
       "349 -0.168694 -0.854906 -0.755889 -0.207262  0.376823 -1.250994  \n",
       "350 -0.728669  1.751988  1.592137  0.825468  0.407352  0.844025  \n",
       "351  0.408223 -0.499420 -0.689662  0.543814  0.415212 -0.678365  \n",
       "352 -1.069811  1.751988  1.592137  0.825468  0.415212  1.526189  \n",
       "353 -1.054376  1.751988  1.592137  0.825468 -0.065507 -0.758782  \n",
       "\n",
       "[354 rows x 13 columns]"
      ]
     },
     "execution_count": 81,
     "metadata": {},
     "output_type": "execute_result"
    }
   ],
   "source": [
    "pd.DataFrame(X_train_transfromed)"
   ]
  },
  {
   "cell_type": "code",
   "execution_count": 82,
   "id": "25508635",
   "metadata": {},
   "outputs": [],
   "source": [
    "from sklearn.linear_model import LinearRegression, HuberRegressor\n",
    "from sklearn.metrics import mean_squared_error, mean_absolute_error, r2_score"
   ]
  },
  {
   "cell_type": "code",
   "execution_count": 83,
   "id": "2fef30a4",
   "metadata": {},
   "outputs": [
    {
     "data": {
      "text/plain": [
       "28.405854810508206"
      ]
     },
     "execution_count": 83,
     "metadata": {},
     "output_type": "execute_result"
    }
   ],
   "source": [
    "lr = LinearRegression()\n",
    "lr.fit(X_train, y_train)\n",
    "mean_squared_error(y_test, lr.predict(X_test))"
   ]
  },
  {
   "cell_type": "code",
   "execution_count": 84,
   "id": "9e315c30",
   "metadata": {},
   "outputs": [
    {
     "data": {
      "text/plain": [
       "3.691362677116262"
      ]
     },
     "execution_count": 84,
     "metadata": {},
     "output_type": "execute_result"
    }
   ],
   "source": [
    "mean_absolute_error(y_test, lr.predict(X_test))"
   ]
  },
  {
   "cell_type": "code",
   "execution_count": 85,
   "id": "b4af61b5",
   "metadata": {},
   "outputs": [
    {
     "data": {
      "text/plain": [
       "0.6485645742370707"
      ]
     },
     "execution_count": 85,
     "metadata": {},
     "output_type": "execute_result"
    }
   ],
   "source": [
    "r2_score(y_test, lr.predict(X_test))#больше 0.6 неплохо наша модель может объяснить такой процент дисперсии"
   ]
  },
  {
   "cell_type": "code",
   "execution_count": 86,
   "id": "7e71490e",
   "metadata": {},
   "outputs": [
    {
     "name": "stderr",
     "output_type": "stream",
     "text": [
      "C:\\Users\\Panic\\anaconda3\\lib\\site-packages\\sklearn\\linear_model\\_huber.py:332: ConvergenceWarning: lbfgs failed to converge (status=1):\n",
      "STOP: TOTAL NO. of ITERATIONS REACHED LIMIT.\n",
      "\n",
      "Increase the number of iterations (max_iter) or scale the data as shown in:\n",
      "    https://scikit-learn.org/stable/modules/preprocessing.html\n",
      "  self.n_iter_ = _check_optimize_result(\"lbfgs\", opt_res, self.max_iter)\n"
     ]
    },
    {
     "data": {
      "text/plain": [
       "35.8377483430946"
      ]
     },
     "execution_count": 86,
     "metadata": {},
     "output_type": "execute_result"
    }
   ],
   "source": [
    "hr = HuberRegressor()\n",
    "hr.fit(X_train, y_train)\n",
    "mean_squared_error(y_test, hr.predict(X_test))"
   ]
  },
  {
   "cell_type": "code",
   "execution_count": 87,
   "id": "cbe802d3",
   "metadata": {},
   "outputs": [
    {
     "data": {
      "text/plain": [
       "3.986871177845188"
      ]
     },
     "execution_count": 87,
     "metadata": {},
     "output_type": "execute_result"
    }
   ],
   "source": [
    "mean_absolute_error(y_test, hr.predict(X_test))"
   ]
  },
  {
   "cell_type": "code",
   "execution_count": 88,
   "id": "3887426d",
   "metadata": {},
   "outputs": [
    {
     "data": {
      "text/plain": [
       "0.5566176609942747"
      ]
     },
     "execution_count": 88,
     "metadata": {},
     "output_type": "execute_result"
    }
   ],
   "source": [
    "r2_score(y_test, hr.predict(X_test))"
   ]
  },
  {
   "cell_type": "markdown",
   "id": "9553a7df",
   "metadata": {},
   "source": [
    "## КроссВалидация на валидационной выборке(на обучающей обучать, на вал подбирать параметры)"
   ]
  },
  {
   "cell_type": "markdown",
   "id": "1ed28312",
   "metadata": {},
   "source": [
    "1.1 Максимально честно"
   ]
  },
  {
   "cell_type": "code",
   "execution_count": 89,
   "id": "38ae6ab4",
   "metadata": {},
   "outputs": [],
   "source": [
    "np.random.seed(123)\n",
    "X_train, X_test, y_train, y_test = train_test_split(X, y, test_size = 0.3)"
   ]
  },
  {
   "cell_type": "code",
   "execution_count": 90,
   "id": "c67d2110",
   "metadata": {},
   "outputs": [],
   "source": [
    "X_train, X_val, y_train, y_val = train_test_split(X_train, y_train,test_size = 0.3)"
   ]
  },
  {
   "cell_type": "code",
   "execution_count": 91,
   "id": "accd7be6",
   "metadata": {},
   "outputs": [
    {
     "data": {
      "text/plain": [
       "(247, 13)"
      ]
     },
     "execution_count": 91,
     "metadata": {},
     "output_type": "execute_result"
    }
   ],
   "source": [
    "X_train.shape"
   ]
  },
  {
   "cell_type": "code",
   "execution_count": 92,
   "id": "d6d55a35",
   "metadata": {},
   "outputs": [
    {
     "data": {
      "text/plain": [
       "(107, 13)"
      ]
     },
     "execution_count": 92,
     "metadata": {},
     "output_type": "execute_result"
    }
   ],
   "source": [
    "X_val.shape"
   ]
  },
  {
   "cell_type": "code",
   "execution_count": 93,
   "id": "2a33e581",
   "metadata": {},
   "outputs": [
    {
     "data": {
      "text/plain": [
       "(152, 13)"
      ]
     },
     "execution_count": 93,
     "metadata": {},
     "output_type": "execute_result"
    }
   ],
   "source": [
    "X_test.shape"
   ]
  },
  {
   "cell_type": "code",
   "execution_count": 94,
   "id": "01ce90ec",
   "metadata": {},
   "outputs": [],
   "source": [
    "from sklearn.linear_model import Ridge"
   ]
  },
  {
   "cell_type": "code",
   "execution_count": 95,
   "id": "0837b2e2",
   "metadata": {},
   "outputs": [],
   "source": [
    "alpha = [1e-3, 1e-1, 1, 10, 100]"
   ]
  },
  {
   "cell_type": "code",
   "execution_count": 96,
   "id": "9dd342c4",
   "metadata": {},
   "outputs": [],
   "source": [
    "ridge = Ridge()"
   ]
  },
  {
   "cell_type": "code",
   "execution_count": 97,
   "id": "ab28db3b",
   "metadata": {},
   "outputs": [
    {
     "name": "stdout",
     "output_type": "stream",
     "text": [
      "[28.557581592232545, 28.37275423853071, 27.9272815016194, 26.01379106617087, 23.607935265266043]\n"
     ]
    }
   ],
   "source": [
    "mse_alphas = []\n",
    "\n",
    "for a in alpha:\n",
    "    ridge = Ridge(alpha = a)\n",
    "    ridge.fit(X_train, y_train)\n",
    "    mse_alphas.append(mean_squared_error(y_val, ridge.predict(X_val)))\n",
    "print(mse_alphas)"
   ]
  },
  {
   "cell_type": "code",
   "execution_count": 98,
   "id": "0f76ab1c",
   "metadata": {},
   "outputs": [
    {
     "data": {
      "text/plain": [
       "29.456711122858547"
      ]
     },
     "execution_count": 98,
     "metadata": {},
     "output_type": "execute_result"
    }
   ],
   "source": [
    "ridge = Ridge(alpha = 100)\n",
    "ridge.fit(X_train, y_train)\n",
    "mean_squared_error(y_test, ridge.predict(X_test))"
   ]
  },
  {
   "cell_type": "markdown",
   "id": "5b607d79",
   "metadata": {},
   "source": [
    "## 1.2Менее честная но на маленьких выборках норм в практике"
   ]
  },
  {
   "cell_type": "code",
   "execution_count": 99,
   "id": "98cd56c2",
   "metadata": {},
   "outputs": [],
   "source": [
    "np.random.seed(123)\n",
    "X_train, X_test, y_train, y_test = train_test_split(X, y, test_size = 0.3)"
   ]
  },
  {
   "cell_type": "code",
   "execution_count": 100,
   "id": "e724a020",
   "metadata": {},
   "outputs": [],
   "source": [
    "from sklearn.model_selection import KFold"
   ]
  },
  {
   "cell_type": "code",
   "execution_count": 101,
   "id": "c7040e6e",
   "metadata": {},
   "outputs": [],
   "source": [
    "kf = KFold(n_splits = 5)\n",
    "errors = []\n",
    "\n",
    "for a in alpha:\n",
    "    errors_for_alpha = []\n",
    "    for train_index, test_index in kf.split(X_train):\n",
    "        X_train_train, X_train_val = np.array(X_train)[train_index], np.array(X_train)[test_index]\n",
    "        y_train_train, y_train_val = np.array(y_train)[train_index], np.array(y_train)[test_index]\n",
    "        ridge = Ridge(alpha = a)\n",
    "        ridge.fit(X_train_train, y_train_train)\n",
    "        errors_for_alpha.append(mean_squared_error(y_train_val, ridge.predict(X_train_val)))\n",
    "    errors.append(np.mean(errors_for_alpha))"
   ]
  },
  {
   "cell_type": "code",
   "execution_count": 102,
   "id": "6fca4801",
   "metadata": {},
   "outputs": [
    {
     "data": {
      "text/plain": [
       "[22.56317048743283,\n",
       " 22.55289736206018,\n",
       " 22.66404857942764,\n",
       " 22.963945150142592,\n",
       " 24.91965437540178]"
      ]
     },
     "execution_count": 102,
     "metadata": {},
     "output_type": "execute_result"
    }
   ],
   "source": [
    "errors"
   ]
  },
  {
   "cell_type": "code",
   "execution_count": 104,
   "id": "c182f544",
   "metadata": {},
   "outputs": [
    {
     "data": {
      "text/plain": [
       "[0.001, 0.1, 1, 10, 100]"
      ]
     },
     "execution_count": 104,
     "metadata": {},
     "output_type": "execute_result"
    }
   ],
   "source": [
    "alpha"
   ]
  },
  {
   "cell_type": "code",
   "execution_count": 105,
   "id": "90ef8556",
   "metadata": {},
   "outputs": [
    {
     "data": {
      "text/plain": [
       "28.06072645580966"
      ]
     },
     "execution_count": 105,
     "metadata": {},
     "output_type": "execute_result"
    }
   ],
   "source": [
    "ridge = Ridge(alpha = 100)\n",
    "ridge.fit(X_train, y_train)\n",
    "mean_squared_error(y_test, ridge.predict(X_test))"
   ]
  },
  {
   "cell_type": "code",
   "execution_count": null,
   "id": "37a96e99",
   "metadata": {},
   "outputs": [],
   "source": []
  }
 ],
 "metadata": {
  "kernelspec": {
   "display_name": "Python 3 (ipykernel)",
   "language": "python",
   "name": "python3"
  },
  "language_info": {
   "codemirror_mode": {
    "name": "ipython",
    "version": 3
   },
   "file_extension": ".py",
   "mimetype": "text/x-python",
   "name": "python",
   "nbconvert_exporter": "python",
   "pygments_lexer": "ipython3",
   "version": "3.9.7"
  }
 },
 "nbformat": 4,
 "nbformat_minor": 5
}
